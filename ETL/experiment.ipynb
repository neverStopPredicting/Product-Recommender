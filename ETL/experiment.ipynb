{
 "cells": [
  {
   "cell_type": "code",
   "execution_count": 3,
   "metadata": {},
   "outputs": [],
   "source": [
    "import google.generativeai as genai\n",
    "import os\n",
    "\n",
    "genai.configure(api_key=os.getenv(\"API_KEY\"))"
   ]
  },
  {
   "cell_type": "code",
   "execution_count": null,
   "metadata": {},
   "outputs": [],
   "source": [
    "model = genai.GenerativeModel(\"gemini-1.5-flash\")\n",
    "response = model.generate_content(\"Write a story about a magic backpack.\")\n",
    "print(response.text)"
   ]
  },
  {
   "cell_type": "code",
   "execution_count": 44,
   "metadata": {},
   "outputs": [],
   "source": [
    "import json\n",
    "\n",
    "def extract_venue_meta(text):\n",
    "    model = genai.GenerativeModel(\"gemini-1.5-pro-latest\",\n",
    "                                generation_config={\"response_mime_type\": \"application/json\"})\n",
    "        \n",
    "    prompt = \"\"\" Extract the meta data (venue_name and ingredients) from the above provided Text, return in JSON format.\n",
    "    Notes: \n",
    "    1. The ingredients should be small ingredients that usually available in the Australian brochure stores, do not list dish names here.\n",
    "    2. Venue type should be either restaurant or deli. \n",
    "    Use this JSON schema:\n",
    "    Meta = {'venue_name': str, 'venue_type': str, 'ingredients': list[str]}\n",
    "    Return: list[Meta]\n",
    "    \"\"\"\n",
    "    result = model.generate_content(text+prompt)\n",
    "    return json.loads(result.text)\n",
    "\n",
    "    "
   ]
  },
  {
   "cell_type": "code",
   "execution_count": 42,
   "metadata": {},
   "outputs": [],
   "source": [
    "import os\n",
    "\n",
    "raw_folder_path = './venue_raw_data'\n",
    "menu_folder_path = './venue_menu_data'\n",
    "\n",
    "for filename in os.listdir(raw_folder_path):\n",
    "    # Check if the file is a .txt file\n",
    "    if filename.endswith(\".txt\"):\n",
    "        file_path = os.path.join(raw_folder_path, filename)\n",
    "        \n",
    "        # Open and read the content of the file\n",
    "        with open(file_path, 'r') as file:\n",
    "            file_content = file.read()\n",
    "        \n",
    "        venue_menu_json = extract_venue_meta(file_content)\n",
    "        json_filename = filename.replace('.txt', '.json')\n",
    "        json_file_path = os.path.join(menu_folder_path, json_filename)\n",
    "        \n",
    "        # Save the content as a JSON file\n",
    "        with open(json_file_path, 'w') as json_file:\n",
    "            json.dump(venue_menu_json, json_file, indent=4)"
   ]
  },
  {
   "cell_type": "code",
   "execution_count": 46,
   "metadata": {},
   "outputs": [
    {
     "name": "stdout",
     "output_type": "stream",
     "text": [
      "Successfully indexed Restaurant Hubert.json\n",
      "Successfully indexed Luna Lu.json\n",
      "Successfully indexed Deli Ziosa.json\n",
      "Successfully indexed Wintergarden Deli.json\n",
      "Successfully indexed Joe's Sandwich Bar.json\n"
     ]
    }
   ],
   "source": [
    "import os\n",
    "import json\n",
    "import pysolr\n",
    "\n",
    "# Initialize Solr connection\n",
    "solr_url = 'http://localhost:8983/solr/venue_menu'  # Replace with your Solr URL\n",
    "solr = pysolr.Solr(solr_url, always_commit=True, timeout=10)\n",
    "\n",
    "# Folder containing your JSON files\n",
    "venue_menu_data_folder = 'venue_menu_data'\n",
    "\n",
    "# Function to process and index the data\n",
    "def index_venue_menu_data(folder):\n",
    "    # Loop over all files in the directory\n",
    "    for filename in os.listdir(folder):\n",
    "        if filename.endswith('.json'):\n",
    "            file_path = os.path.join(folder, filename)\n",
    "\n",
    "            # Read and parse the JSON file\n",
    "            with open(file_path, 'r') as file:\n",
    "                try:\n",
    "                    data = json.load(file)\n",
    "\n",
    "                    # Build Solr documents, mapping fields to dynamic fields\n",
    "                    solr_doc = {\n",
    "                        'venue_name_t': data.get('venue_name', ''),\n",
    "                        'venue_type_s': data.get('venue_type', ''),\n",
    "                        'ingredients_txt': data.get('ingredients', ''),\n",
    "                    }\n",
    "\n",
    "                    # Send document to Solr for indexing\n",
    "                    solr.add([solr_doc])\n",
    "\n",
    "                    print(f'Successfully indexed {filename}')\n",
    "\n",
    "                except Exception as e:\n",
    "                    print(f'Error indexing {filename}: {e}')\n",
    "\n",
    "# Call the function to index data\n",
    "index_venue_menu_data(venue_menu_data_folder)"
   ]
  },
  {
   "cell_type": "code",
   "execution_count": 61,
   "metadata": {},
   "outputs": [
    {
     "name": "stdout",
     "output_type": "stream",
     "text": [
      "Text extracted and saved to ./catalogue_data/catalogue.json\n"
     ]
    }
   ],
   "source": [
    "import pdfplumber\n",
    "import json\n",
    "\n",
    "def extract_products_from_pdf(pdf_file_path, json_file_path):\n",
    "    try:\n",
    "        pdf_data = []\n",
    "\n",
    "        # Open the PDF file using pdfplumber\n",
    "        with pdfplumber.open(pdf_file_path) as pdf:\n",
    "            # Extract text from each page\n",
    "            for page_number in range(len(pdf.pages)):\n",
    "                page = pdf.pages[page_number]\n",
    "                text = page.extract_text()  # Use extract_text() from pdfplumber\n",
    "\n",
    "                # Create a dictionary for each page\n",
    "                page_data = {\n",
    "                    'original_file': pdf_file_path,\n",
    "                    'page_number': page_number + 1,  # Page numbers start at 1\n",
    "                    'page_text': text.replace('\\n', ' ') if text else ''  # Handle None case\n",
    "                }\n",
    "                pdf_data.append(page_data)  # Append to the list\n",
    "        \n",
    "        # Save to JSON file\n",
    "        with open(json_file_path, 'w') as json_file:\n",
    "            json.dump(pdf_data, json_file, indent=4)\n",
    "        \n",
    "        print(f'Text extracted and saved to {json_file_path}')\n",
    "    \n",
    "    except Exception as e:\n",
    "        print(f'An error occurred: {e}')\n",
    "\n",
    "# Example usage\n",
    "pdf_file_path = './catalogue_data/PremierQualityFoodsBrochure2021.pdf'  # Replace with your PDF file path\n",
    "json_file_path = './catalogue_data/catalogue.json'            # Specify the desired JSON output file name\n",
    "extract_products_from_pdf(pdf_file_path, json_file_path)\n"
   ]
  },
  {
   "cell_type": "code",
   "execution_count": 62,
   "metadata": {},
   "outputs": [
    {
     "name": "stdout",
     "output_type": "stream",
     "text": [
      "Successfully indexed catalogue.json\n"
     ]
    }
   ],
   "source": [
    "# Initialize Solr connection\n",
    "solr_url = 'http://localhost:8983/solr/catalogues'  # Replace with your Solr URL\n",
    "solr = pysolr.Solr(solr_url, always_commit=True, timeout=10)\n",
    "\n",
    "# Folder containing your JSON files\n",
    "catalogue_data_folder = 'catalogue_data'\n",
    "\n",
    "# Function to process and index the data\n",
    "def index_catalogue_data(folder):\n",
    "    # Loop over all files in the directory\n",
    "    for filename in os.listdir(folder):\n",
    "        if filename.endswith('.json'):\n",
    "            file_path = os.path.join(folder, filename)\n",
    "\n",
    "            # Read and parse the JSON file\n",
    "            with open(file_path, 'r') as file:\n",
    "                try:\n",
    "                    data = json.load(file)\n",
    "                    for page_data in data:\n",
    "                        # Build Solr documents, mapping fields to dynamic fields\n",
    "                        solr_doc = {\n",
    "                            'original_file_s': page_data.get('original_file', ''),\n",
    "                            'page_number_i': page_data.get('page_number', ''),\n",
    "                            'page_text_txt': page_data.get('page_text', ''),\n",
    "                        }\n",
    "\n",
    "                        # Send document to Solr for indexing\n",
    "                        solr.add([solr_doc])\n",
    "\n",
    "                    print(f'Successfully indexed {filename}')\n",
    "\n",
    "                except Exception as e:\n",
    "                    print(f'Error indexing {filename}: {e}')\n",
    "\n",
    "# Call the function to index data\n",
    "index_catalogue_data(catalogue_data_folder)"
   ]
  },
  {
   "cell_type": "code",
   "execution_count": 69,
   "metadata": {},
   "outputs": [],
   "source": [
    "import requests\n",
    "\n",
    "def get_venue_meta(query):\n",
    "    # Construct the Solr query URL\n",
    "    query_url = \"http://localhost:8983/solr/venue_menu/select\"\n",
    "\n",
    "    # Set up the parameters for the query\n",
    "    params = {\n",
    "        'q': query,                 # The query string\n",
    "        'rows': 1,                  # Limit the number of rows returned to 1\n",
    "        'wt': 'json',              # Specify the response format\n",
    "    }\n",
    "\n",
    "    try:\n",
    "        # Send the GET request to Solr\n",
    "        response = requests.get(query_url, params=params)\n",
    "        response.raise_for_status()  # Raise an error for bad responses\n",
    "\n",
    "        # Parse the JSON response\n",
    "        data = response.json()\n",
    "\n",
    "        return data['response']['docs'][0]\n",
    "\n",
    "    except requests.exceptions.RequestException as e:\n",
    "        print(f\"Error querying Solr: {e}\")\n",
    "        return None\n",
    "\n",
    "\n",
    "query1 = \"*:*\"                             # Example query to get all documents\n",
    "\n",
    "venue_meta = get_venue_meta(query1)\n"
   ]
  },
  {
   "cell_type": "code",
   "execution_count": 82,
   "metadata": {},
   "outputs": [],
   "source": [
    "def get_catalogues(query):\n",
    "    # Construct the Solr query URL\n",
    "    query_url = \"http://localhost:8983/solr/catalogues/select\"\n",
    "\n",
    "    # Set up the parameters for the query\n",
    "    params = {\n",
    "        'q': query,                 # The query string\n",
    "        'rows': 3,                  # Limit the number of rows returned to 1\n",
    "        'wt': 'json',\n",
    "        'defType': 'edismax',         # Use the edismax query parser\n",
    "        'qf': 'page_text_txt',        # Specify the field(s) to search\n",
    "        'mm': '1',                             # Specify the response format\n",
    "    }\n",
    "\n",
    "    try:\n",
    "        # Send the GET request to Solr\n",
    "        response = requests.get(query_url, params=params)\n",
    "        response.raise_for_status()  # Raise an error for bad responses\n",
    "\n",
    "        # Parse the JSON response\n",
    "        data = response.json()\n",
    "\n",
    "        return data['response']['docs']\n",
    "\n",
    "    except requests.exceptions.RequestException as e:\n",
    "        print(f\"Error querying Solr: {e}\")\n",
    "        return None\n",
    "\n",
    "query2 = ' '.join(venue_meta['ingredients_txt'])\n",
    "related_catalogues = get_catalogues(query2)  "
   ]
  },
  {
   "cell_type": "code",
   "execution_count": 83,
   "metadata": {},
   "outputs": [
    {
     "data": {
      "text/plain": [
       "[{'original_file_s': './catalogue_data/PremierQualityFoodsBrochure2021.pdf',\n",
       "  'page_number_i': 25,\n",
       "  'page_text_txt': ['Salads & Dips Small Coleslaw  V                               1kg fla Cabbage, carrot and onion in a thick and creamy mayonnaise v o Large Coleslaw  V                               2kg u Cabbage, carrot and onion in a thick and creamy mayonnaise rs Rustic Coleslaw  V                               1kg Sliced red cabbage and grated white cabbage with carrot and red onion in extra thick mayonnaise Minted Coleslaw VG                              1kg Red cabbage, white cabbage, carrot and onion in a minty paprika sauce  with vegan mayonnaise VG Kaleslaw                                                1kg Sliced Curly Kale, red cabbage, carrot & red onion in a seasoned vegan mayonnaise Cous Cous & Mediterranean Vegetables  S   H V                  1kg Cous Cous and Mediterranean vegetables with coriander in a traditional French dressing Moroccan Cous Cous  S   H  V                         1kg Bombay Potato Salad  S    H  V                         1kg Cous Cous, chick peas, Mediterranean vegetables, sultanas and apricots in a mix Diced Potato in an authentic Balti sauce with sultanas and apple of Moroccan ﬂavourings. Sweet & Sour Beetroot S   H V                         1kg Grillied Vegetables S     V G                                                                                1kg Diced beetroot with carrot and onion in a sweet and sour sauce Grilled mediterranean vegetables with roast garlic, balsamic vinegar and sundried  tomato chutney Potato Salad  V                                 1kg Diced potato mixed with onion and spring onion in a thick and creamy mayonnaise Spicy Rice  V                                  1kg White rice and sultanas in a spicy coronation curry mayonnaise Three Bean Salad  S   H V                               1kg Red kidney beans, green beans and butter beans with sweetcorn and carrot in a traditional French dressing Pasta Italienne  S H   V                              1kg w Pasta, tomatoes, onion and mixed peppers in a herby tomato sauce w w Pasta & Tuna                                   1kg .p Pasta and tuna mixed with sweetcorn and peppers in a traditional salad mayonnaise r e m Falafel Chick Pea in Roast Pepper Salsa   S H   V                  1kg Lightly fried falafel mixed with chick peas in an authentic roast pepper salsa ie r q BBQ Jackfruit  S   H  V                             1kg u a Pulled Jackfruit with diced white onion in an authentic BBQ Sauce lit y Onion Bhaji in a Sweet Chilli Sauce   S H  V                    1kg f o Chopped onion bhaji in a sweet chilli sauce o d Hummus    V                                                   1kg s Greek style traditional dip made predominantly from chick peas .c o S = Sauced Based, H = Heatable V = Vegetarian VG = Vegan 25 m'],\n",
       "  'id': '9fc967fd-8afa-4883-92e1-05eb21f826f1',\n",
       "  '_version_': 1812142182235111424},\n",
       " {'original_file_s': './catalogue_data/PremierQualityFoodsBrochure2021.pdf',\n",
       "  'page_number_i': 50,\n",
       "  'page_text_txt': ['f r o z e n Wrights have been producing top quality wholesome food since 1926.  One of the largest growing independent food manufacturers in the UK.  Wrights blend traditional cooking methods with the latest  manufacturing technology to deliver a constantly expanding range of  food solutions. Pies Wrights Meat & Potato Pies               30 x 245 g Wrights Steak & Kidney Pies                   32 x 200 g Wrights Steak Shortcrust Pies                   32 x 200 g Wrights Steak Puff Pastry Pies                   32 x 200 g Wrights Puff Mince Beef & Onion Pies               36 x 170 g Wrights Premium Minced Beef & Onion Pies           24 x 240 g Wrights Chicken & Mushroom Pie       30 x 195g Wrights Chicken & Mushroom Pies                30 x 195 g Wrights Puff Chicken & Mushroom Pies               30 x 195 g A blend of chicken and mushrooms within a creamy sauce encased in puff pastry. Wrights Spicy Potato & Cauliflower Pies   24 x 250 g Wrights Moroccan Style Tomato & Chickpea Pies    24 x 250 g Wrights Small HR Pork Pies UB              36 x 196 g Wrights Cottage Pies UB                    24 x 280 g Wrights FU Large Hand Raised Pork Pies                18 x 479 g w w w . p r e m ie r q u a lit y f o o d s Wrights Steak & Kidney Pie        32 x 200g Wrights Small Hand Raised Pork Pies      36 x 196g . c A blend of tender beef and kidney in a rich gravy encased in shortcrust pastry  Small Hand Raised Pork Pies UB and Large Hand Raised Pork Pies UB o m 50'],\n",
       "  'id': '2d5ea0ee-5477-405e-aa33-911e9e694c4d',\n",
       "  '_version_': 1812142190738014208},\n",
       " {'original_file_s': './catalogue_data/PremierQualityFoodsBrochure2021.pdf',\n",
       "  'page_number_i': 29,\n",
       "  'page_text_txt': ['Marinated & Pulled Meats Marinated Chicken Tikka   H                           1kg f Sliced chicken breast marinated in authentic tikka spices la v Marinated Tandoori Chicken H                            1kg o u Sliced chicken breast seasoned in tandoori herbs and spices  r s Marinated Chinese Chicken H                           1kg Chicken breast slices marinated in Chinese spices Marinated Red Thai Chicken S    H                         1kg Chicken breast slices marinated with traditional Thai ﬂavours Marinated Lemon & Black Pepper Chicken H                       1kg Chicken breast slices seasoned in a lemon and pepper marinate Marinated Cajun Chicken H                           1kg Chicken breast slices marinated in traditional cajun spices and concentrates Marinated BBQ Chicken H                             1kg Marinated Bang Bang Chicken S   H                          1kg Chicken breast slices marinated in an authentic BBQ marinate and BBQ sauce Sliced chicken breast and peppers with peanut butter and sweet chilli sauce Marinated Lime & Coriander Chicken  H                         1kg Marinated Mexican Chicken S    H                        1kg Sliced chicken breast marinated in a lime and sweet chilli seasoning with added coriander Sliced chicken breast in an authentic chilli sauce with peppers and onion Marinated Mediterranean Chicken  S H                         1kg Marinated Chicken Fajita with Salsa S H                         1kg Sliced Chicken Breast marinated in authentic mediterranean spices Sliced chicken breast marinated in fajita herbs and spices in a roast pepper salsa Marinated Chicken Italienne S    H                           1kg Marinated Jamaican Jerk Chicken  S H                         1kg Sliced chicken breast in a tomato and herb based sauce Sliced chicken breast mixed in a hot and fruity mango chutney style sauce Marinated Piri Piri Chicken S H                            1kg Sliced chicken in an authentic piri piri style sauce Hoi Sin Duck S   H                                                  1kg Shredded duck in an authentic hoi-sin sauce w Minted Lamb S      H                                         1kg w w Sliced lamb in a mint and paprika sauce . p Pulled BBQ Pork  S      H                                        1kg re Pulled pork with a blend of BBQ seasoning and sauce m Ranch Style Pork  S      H                                      1kg ie Pulled pork with red onion and mixed peppers in an authentic BBQ sauce rq u Pulled BBQ Beef  S      H                                      1kg a Pulled beef mixed in a BBQ sauce lit y f Pulled Chilli Beef S   H                                           1kg o o Pulled beef mixed in a BBQ chilli sauce d s . c o S = Sauced Based, H = Heatable V = Vegetarian VG = Vegan 29 m'],\n",
       "  'id': 'd5745237-b211-4aed-9fb5-cb8adb569e1f',\n",
       "  '_version_': 1812142182963871744}]"
      ]
     },
     "execution_count": 83,
     "metadata": {},
     "output_type": "execute_result"
    }
   ],
   "source": [
    "related_catalogues"
   ]
  },
  {
   "cell_type": "code",
   "execution_count": 98,
   "metadata": {},
   "outputs": [],
   "source": [
    "def extract_venue_meta(venue_meta, related_catalogues):\n",
    "    model = genai.GenerativeModel(\"gemini-1.5-pro-latest\")\n",
    "                    \n",
    "        \n",
    "    prompt = \"\"\" Your task is to follow the instructions below and suggest suitable products from the catalogue for the venue.\n",
    "\n",
    "    1. List 15 products from the catalogue.\n",
    "    2. Based on the venue metadata provided to you, and the venue type and the ingredients listed on their menu, pick 5 products from the catalogue to make the suggestion.\n",
    "    3. Your answer should be based on the template below; please do not add other information.\n",
    "    4. Your answer should be based on the Venue metadata and Product Catalogue; please do not create items or names from your own knowledge.\n",
    "    5. The [original_file] should only show the file name, not the entire file path.\n",
    "\n",
    "    --------- Response template ---------\n",
    "    [venue_name] is a [venue_type] venue.\n",
    "    My suggested products from the [original_file] are:\n",
    "    1. [product name 1], [product 1 page_number]\n",
    "    2. [product name 2], [product 2 page_number]\n",
    "    3. [product name 3], [product 3 page_number]\n",
    "    4. [product name 4], [product 4 page_number]\n",
    "    5. [product name 5], [product 5 page_number]\n",
    "    \"\"\"\n",
    "    result = model.generate_content(prompt + f'Venue meta data: {venue_meta}, Product Catalogue: {related_catalogues}')\n",
    "    return result.text"
   ]
  },
  {
   "cell_type": "code",
   "execution_count": 99,
   "metadata": {},
   "outputs": [],
   "source": [
    "res = extract_venue_meta(venue_meta, related_catalogues)"
   ]
  },
  {
   "cell_type": "code",
   "execution_count": 101,
   "metadata": {},
   "outputs": [
    {
     "name": "stdout",
     "output_type": "stream",
     "text": [
      "Restaurant Hubert is a restaurant venue.\n",
      "My suggested products from the ./catalogue_data/PremierQualityFoodsBrochure2021.pdf are:\n",
      "1. Moroccan Cous Cous, 25\n",
      "2. Potato Salad, 25\n",
      "3. Rustic Coleslaw, 25\n",
      "4. Marinated Chicken Tikka, 29\n",
      "5. Hoi Sin Duck, 29\n",
      "\n"
     ]
    }
   ],
   "source": [
    "print(res)"
   ]
  }
 ],
 "metadata": {
  "kernelspec": {
   "display_name": "Python 3",
   "language": "python",
   "name": "python3"
  },
  "language_info": {
   "codemirror_mode": {
    "name": "ipython",
    "version": 3
   },
   "file_extension": ".py",
   "mimetype": "text/x-python",
   "name": "python",
   "nbconvert_exporter": "python",
   "pygments_lexer": "ipython3",
   "version": "3.9.1"
  }
 },
 "nbformat": 4,
 "nbformat_minor": 2
}
